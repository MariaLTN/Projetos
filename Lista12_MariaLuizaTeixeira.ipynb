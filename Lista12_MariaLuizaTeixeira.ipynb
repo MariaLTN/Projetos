{
 "cells": [
  {
   "cell_type": "markdown",
   "metadata": {},
   "source": [
    "<div class=\"alert alert-block bg-primary\">\n",
    "<center>MÉTODOS NUMÉRICOS</center>\n",
    "<center>LISTA 06</center>\n",
    "<center>ALUNA: MARIA LUÍZA TEIXEIRA NASCIMENTO</center>\n",
    "</div>"
   ]
  },
  {
   "cell_type": "code",
   "execution_count": 1,
   "metadata": {},
   "outputs": [],
   "source": [
    "import pandas as pd\n",
    "import numpy as np\n",
    "import scipy.linalg as sla\n",
    "from scipy.linalg import lu_factor, lu_solve\n",
    "import copy as cp"
   ]
  },
  {
   "cell_type": "markdown",
   "metadata": {},
   "source": [
    "<div class=\"alert alert-block alert-info\">\n",
    "<center><strong>Exercício 1.1:</strong> Classifique os sistemas abaixo com relação a quantidade e existência de soluções.</center>\n",
    "</div>"
   ]
  },
  {
   "cell_type": "markdown",
   "metadata": {},
   "source": [
    "<p> Implemente uma função que encontre o vetor solução de um sistema de equações lineares usando\n",
    "decomposição LU.</p>\n",
    "<p>Para testar e verificar se a função de vocês está corretamente implementada, compare os resultados com a função lu_solve da biblioteca Scipy, cujo uso também foi discutido no notebook, para os seguintes exemplos de sistemas</p>"
   ]
  },
  {
   "cell_type": "code",
   "execution_count": 2,
   "metadata": {},
   "outputs": [],
   "source": [
    "def decomposicaoLU(A):\n",
    "    n=len(A[0])\n",
    "    L = np.zeros([n,n])\n",
    "    U = np.zeros([n, n])\n",
    "    for i in range(n):\n",
    "        L[i][i]=1\n",
    "        if i==0:\n",
    "            U[0][0] = A[0][0]\n",
    "            for j in range(1,n):\n",
    "                U[0][j]=A[0][j]\n",
    "                L[j][0]=A[j][0]/U[0][0]\n",
    "        else:\n",
    "            for j in range(i, n):# Para o U\n",
    "                temp=0\n",
    "                for k in range(0, i):\n",
    "                    temp = temp+L[i][k] * U[k][j]\n",
    "                U[i][j]=A[i][j]-temp\n",
    "            for j in range(i+1, n):# Para o L\n",
    "                temp = 0\n",
    "                for k in range(0, i ):\n",
    "                    temp = temp + L[j][k] * U[k][i]\n",
    "                L[j][i] = (A[j][i] - temp)/U[i][i]\n",
    "    return L,U"
   ]
  },
  {
   "cell_type": "markdown",
   "metadata": {},
   "source": [
    "<div class=\"alert alert-block alert-info\">\n",
    "<center><strong>Letra A:</strong></center>\n",
    "</div>"
   ]
  },
  {
   "cell_type": "markdown",
   "metadata": {},
   "source": [
    "<p>$x_1 + x_2 + x_3 = 1$</p>\n",
    "<p>$4x_1 + 4x_2 + 2x_3 = 2$</p>\n",
    "<p>$2x_1 + x_2 - x_3 = 0$</p>"
   ]
  },
  {
   "cell_type": "code",
   "execution_count": 3,
   "metadata": {},
   "outputs": [],
   "source": [
    "A = np.array([[1, 1, 1], [4, 4, 2], [2, 1, -1]])\n",
    "B = np.array([1, 2, 0])"
   ]
  },
  {
   "cell_type": "code",
   "execution_count": 4,
   "metadata": {},
   "outputs": [
    {
     "name": "stdout",
     "output_type": "stream",
     "text": [
      "(array([[  1.,   0.,   0.],\n",
      "       [  4.,   1.,   0.],\n",
      "       [  2., -inf,   1.]]), array([[  1.,   1.,   1.],\n",
      "       [  0.,   0.,  -2.],\n",
      "       [  0.,   0., -inf]]))\n"
     ]
    },
    {
     "name": "stderr",
     "output_type": "stream",
     "text": [
      "C:\\Users\\Patrícia Nascimento\\Anaconda3\\lib\\site-packages\\ipykernel_launcher.py:22: RuntimeWarning: divide by zero encountered in double_scalars\n"
     ]
    }
   ],
   "source": [
    "print(decomposicaoLU(A))"
   ]
  },
  {
   "cell_type": "markdown",
   "metadata": {},
   "source": [
    "<center>Solução resolvida com o <strong>sla.lu_solve</strong></center>"
   ]
  },
  {
   "cell_type": "code",
   "execution_count": 5,
   "metadata": {},
   "outputs": [
    {
     "name": "stdout",
     "output_type": "stream",
     "text": [
      "[ 1. -1.  1.]\n"
     ]
    }
   ],
   "source": [
    "print(sla.lu_solve(sla.lu_factor(A), B))"
   ]
  },
  {
   "cell_type": "markdown",
   "metadata": {},
   "source": [
    "<div class=\"alert alert-block alert-info\">\n",
    "<center><strong>Letra B:</strong></center>\n",
    "</div>"
   ]
  },
  {
   "cell_type": "markdown",
   "metadata": {},
   "source": [
    "<p>$7x_1 - 7x_2 + x_3 = 1$</p>\n",
    "<p>$-3x_1 + 3x_2 + 2x_3 = 2$</p>\n",
    "<p>$7x_1 + 7x_2 - 72x_3 = 7$</p>"
   ]
  },
  {
   "cell_type": "code",
   "execution_count": 6,
   "metadata": {},
   "outputs": [],
   "source": [
    "C = np.array([[7, -7, 1], [-3, 3, 2], [7, 7, -72]])\n",
    "D = np.array([1, 2, 7])"
   ]
  },
  {
   "cell_type": "code",
   "execution_count": 7,
   "metadata": {},
   "outputs": [
    {
     "name": "stdout",
     "output_type": "stream",
     "text": [
      "(array([[ 1.        ,  0.        ,  0.        ],\n",
      "       [-0.42857143,  1.        ,  0.        ],\n",
      "       [ 1.        ,         inf,  1.        ]]), array([[ 7.        , -7.        ,  1.        ],\n",
      "       [ 0.        ,  0.        ,  2.42857143],\n",
      "       [ 0.        ,  0.        ,        -inf]]))\n"
     ]
    },
    {
     "name": "stderr",
     "output_type": "stream",
     "text": [
      "C:\\Users\\Patrícia Nascimento\\Anaconda3\\lib\\site-packages\\ipykernel_launcher.py:22: RuntimeWarning: divide by zero encountered in double_scalars\n"
     ]
    }
   ],
   "source": [
    "print(decomposicaoLU(C))"
   ]
  },
  {
   "cell_type": "markdown",
   "metadata": {},
   "source": [
    "<center>Solução resolvida com o <strong>sla.lu_solve</strong></center>"
   ]
  },
  {
   "cell_type": "code",
   "execution_count": 8,
   "metadata": {},
   "outputs": [
    {
     "name": "stdout",
     "output_type": "stream",
     "text": [
      "[5.64285714 5.64285714 1.        ]\n"
     ]
    }
   ],
   "source": [
    "print(sla.lu_solve(sla.lu_factor(C), D))"
   ]
  },
  {
   "cell_type": "markdown",
   "metadata": {},
   "source": [
    "<div class=\"alert alert-block alert-info\">\n",
    "<center><strong>Letra C:</strong></center>\n",
    "</div>"
   ]
  },
  {
   "cell_type": "markdown",
   "metadata": {},
   "source": [
    "<p>$1x_1 + 2x_2 + 3x_3 + 4x_4 = 20$</p>\n",
    "<p>$2x_1 + 2x_2 + 3x_3 + 4x_4 = 22$</p>\n",
    "<p>$3x_1 + 3x_2 + 3x_3 + 4x_4 = 22$</p>\n",
    "<p>$4x_1 + 4x_2 + 4x_3 + 4x_4 = 24$</p>\n"
   ]
  },
  {
   "cell_type": "code",
   "execution_count": 9,
   "metadata": {},
   "outputs": [],
   "source": [
    "E = np.array([[1, 2, 3, 4], [2, 2, 3, 4], [3, 3, 3, 4], [4, 4, 4, 4]])\n",
    "F = np.array([20, 22, 22, 24])"
   ]
  },
  {
   "cell_type": "code",
   "execution_count": 10,
   "metadata": {},
   "outputs": [
    {
     "name": "stdout",
     "output_type": "stream",
     "text": [
      "(array([[1.        , 0.        , 0.        , 0.        ],\n",
      "       [2.        , 1.        , 0.        , 0.        ],\n",
      "       [3.        , 1.5       , 1.        , 0.        ],\n",
      "       [4.        , 2.        , 1.33333333, 1.        ]]), array([[ 1.        ,  2.        ,  3.        ,  4.        ],\n",
      "       [ 0.        , -2.        , -3.        , -4.        ],\n",
      "       [ 0.        ,  0.        , -1.5       , -2.        ],\n",
      "       [ 0.        ,  0.        ,  0.        , -1.33333333]]))\n"
     ]
    }
   ],
   "source": [
    "print(decomposicaoLU(E))"
   ]
  },
  {
   "cell_type": "markdown",
   "metadata": {},
   "source": [
    "<center>Solução resolvida com o <strong>sla.lu_solve</strong></center>"
   ]
  },
  {
   "cell_type": "code",
   "execution_count": 11,
   "metadata": {},
   "outputs": [
    {
     "name": "stdout",
     "output_type": "stream",
     "text": [
      "[ 2. -2.  2.  4.]\n"
     ]
    }
   ],
   "source": [
    "print(sla.lu_solve(sla.lu_factor(E), F))"
   ]
  }
 ],
 "metadata": {
  "kernelspec": {
   "display_name": "Python 3",
   "language": "python",
   "name": "python3"
  },
  "language_info": {
   "codemirror_mode": {
    "name": "ipython",
    "version": 3
   },
   "file_extension": ".py",
   "mimetype": "text/x-python",
   "name": "python",
   "nbconvert_exporter": "python",
   "pygments_lexer": "ipython3",
   "version": "3.7.3"
  }
 },
 "nbformat": 4,
 "nbformat_minor": 2
}
